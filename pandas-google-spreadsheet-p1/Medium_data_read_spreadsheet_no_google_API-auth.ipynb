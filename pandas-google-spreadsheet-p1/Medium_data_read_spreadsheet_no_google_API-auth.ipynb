{
 "cells": [
  {
   "cell_type": "markdown",
   "id": "ed19990c-9750-41bb-a7c3-23acf1c74a93",
   "metadata": {},
   "source": [
    "# Read Google Spreadsheets from Python - no Google API Auth"
   ]
  },
  {
   "cell_type": "markdown",
   "id": "1480ede6-4c47-4676-bd16-e7c6688f385e",
   "metadata": {},
   "source": [
    "## Import Libraries"
   ]
  },
  {
   "cell_type": "code",
   "execution_count": 4,
   "id": "4403bebd-56be-4bb8-b50c-c14025c1e0cf",
   "metadata": {},
   "outputs": [],
   "source": [
    "import pandas as pd"
   ]
  },
  {
   "cell_type": "markdown",
   "id": "59ac84aa-0d74-49dc-8959-f8e3d677bb52",
   "metadata": {},
   "source": [
    "## Assembling the variables"
   ]
  },
  {
   "cell_type": "code",
   "execution_count": 10,
   "id": "22b01748-be7d-4211-a952-a8019a099655",
   "metadata": {},
   "outputs": [],
   "source": [
    "document_id = \"678Iyi07Ihshdc5d6yNp8XmprV77zeiED9P6TpWG9hp1g\"\n",
    "tab_name = \"Sheet1\"\n",
    "full_url = f\"https://docs.google.com/spreadsheets/d/{document_id}/gviz/tq?tqx=out:csv&sheet={tab_name}\""
   ]
  },
  {
   "cell_type": "markdown",
   "id": "2dd159d4-6123-45a3-8e8f-d3a1ea9958a0",
   "metadata": {},
   "source": [
    "## Retrieving the data into a dataframe"
   ]
  },
  {
   "cell_type": "code",
   "execution_count": 11,
   "id": "90fe115a-1ab7-4e10-82e9-a08fe00355d0",
   "metadata": {},
   "outputs": [],
   "source": [
    "df = pd.read_csv(full_url)"
   ]
  },
  {
   "cell_type": "markdown",
   "id": "39e6d1f1-d098-410e-afb7-627cadc9e956",
   "metadata": {},
   "source": [
    "## Printing results"
   ]
  },
  {
   "cell_type": "code",
   "execution_count": 12,
   "id": "62c720fa-6ca7-40fe-8e26-eb3f02aca079",
   "metadata": {},
   "outputs": [
    {
     "data": {
      "text/html": [
       "<div>\n",
       "<style scoped>\n",
       "    .dataframe tbody tr th:only-of-type {\n",
       "        vertical-align: middle;\n",
       "    }\n",
       "\n",
       "    .dataframe tbody tr th {\n",
       "        vertical-align: top;\n",
       "    }\n",
       "\n",
       "    .dataframe thead th {\n",
       "        text-align: right;\n",
       "    }\n",
       "</style>\n",
       "<table border=\"1\" class=\"dataframe\">\n",
       "  <thead>\n",
       "    <tr style=\"text-align: right;\">\n",
       "      <th></th>\n",
       "      <th>Name</th>\n",
       "      <th>Last</th>\n",
       "      <th>Company</th>\n",
       "    </tr>\n",
       "  </thead>\n",
       "  <tbody>\n",
       "    <tr>\n",
       "      <th>0</th>\n",
       "      <td>Peter</td>\n",
       "      <td>Parker</td>\n",
       "      <td>Marvel</td>\n",
       "    </tr>\n",
       "    <tr>\n",
       "      <th>1</th>\n",
       "      <td>Diana</td>\n",
       "      <td>Prince</td>\n",
       "      <td>DC</td>\n",
       "    </tr>\n",
       "    <tr>\n",
       "      <th>2</th>\n",
       "      <td>Barry</td>\n",
       "      <td>Allen</td>\n",
       "      <td>DC</td>\n",
       "    </tr>\n",
       "    <tr>\n",
       "      <th>3</th>\n",
       "      <td>Steve</td>\n",
       "      <td>Rogers</td>\n",
       "      <td>Marvel</td>\n",
       "    </tr>\n",
       "  </tbody>\n",
       "</table>\n",
       "</div>"
      ],
      "text/plain": [
       "    Name    Last Company\n",
       "0  Peter  Parker  Marvel\n",
       "1  Diana  Prince      DC\n",
       "2  Barry   Allen      DC\n",
       "3  Steve  Rogers  Marvel"
      ]
     },
     "execution_count": 12,
     "metadata": {},
     "output_type": "execute_result"
    }
   ],
   "source": [
    "df.head()"
   ]
  }
 ],
 "metadata": {
  "kernelspec": {
   "display_name": "Python 3 (ipykernel)",
   "language": "python",
   "name": "python3"
  },
  "language_info": {
   "codemirror_mode": {
    "name": "ipython",
    "version": 3
   },
   "file_extension": ".py",
   "mimetype": "text/x-python",
   "name": "python",
   "nbconvert_exporter": "python",
   "pygments_lexer": "ipython3",
   "version": "3.9.12"
  }
 },
 "nbformat": 4,
 "nbformat_minor": 5
}
